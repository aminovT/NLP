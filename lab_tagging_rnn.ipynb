{
 "cells": [
  {
   "cell_type": "markdown",
   "metadata": {
    "collapsed": true
   },
   "source": [
    "# Практическое задание 2 (часть 2)\n",
    "\n",
    "# Распознавание именованных сущностей из Twitter с помощью LSTM\n",
    "\n",
    "## курс \"Математические методы анализа текстов\"\n",
    "\n",
    "\n",
    "### ФИО: АМИНОВ ТИМУР ВЕНЕРОВИЧ\n"
   ]
  },
  {
   "cell_type": "markdown",
   "metadata": {},
   "source": [
    "## Введение\n",
    "\n",
    "### Постановка задачи\n",
    "\n",
    "В этом задании вы будете использовать рекуррентные нейронные сети для решения проблемы распознавания именованных сущностей (NER). Примерами именованных сущностей являются имена людей, названия организаций, адреса и т.д. В этом задании вы будете работать с данными twitter.\n",
    "\n",
    "Например, вы хотите извлечь имена и названия организаций. Тогда для текста\n",
    "\n",
    "    Yan Goodfellow works for Google Brain\n",
    "\n",
    "модель должна извлечь следующую последовательность:\n",
    "\n",
    "    B-PER I-PER    O     O   B-ORG  I-ORG\n",
    "\n",
    "где префиксы *B-* и *I-* означают начало и конец именованной сущности, *O* означает слово без тега. Такая префиксная система введена, чтобы различать последовательные именованные сущности одного типа.\n",
    "\n",
    "Решение этого задания будет основано на нейронных сетях, а именно на Bi-Directional Long Short-Term Memory Networks (Bi-LSTMs).\n",
    "\n",
    "### Библиотеки\n",
    "\n",
    "Для этого задания вам понадобятся следующие библиотеки:\n",
    " - [Pytorch](https://pytorch.org/).\n",
    " - [Numpy](http://www.numpy.org).\n",
    " \n",
    "### Данные\n",
    "\n",
    "Все данные содержатся в папке `./data`: `./data/train.txt`, `./data/validation.txt`, `./data/test.txt`.\n",
    "\n",
    "Скачать архив можно здесь: [ссылка на google диск](https://drive.google.com/open?id=1s1rFOFMZTBqtJuQDcIvW-8djA78iUDcx)"
   ]
  },
  {
   "cell_type": "code",
   "execution_count": 1,
   "metadata": {},
   "outputs": [],
   "source": [
    "import numpy as np\n",
    "\n",
    "import torch\n",
    "import torch.nn as nn\n",
    "import torch.optim as optim"
   ]
  },
  {
   "cell_type": "markdown",
   "metadata": {},
   "source": [
    "## Часть 1. Подготовка данных (2 балла)\n",
    "\n",
    "### Загрузка данных\n",
    "\n",
    "Мы будем работать с данными, которые содержат твиты с тегами именованных сущностей. Каждая строка файла содержит пару токен(слово или пунктуация) и тег, разделенные пробелом. Различные твиты разделены пустой строкой.\n",
    "\n",
    "Функция *read_data* считывает корпус из *file_path* и возвращает два списка: один с токенами и один с соответствующими токенам тегами. Также она заменяет все ники (токены, которые начинаются на символ *@*) на токен `<USR>` и url-ы (токены, которые начинаются на *http://* или *https://*) на токен `<URL>`. \n",
    "\n",
    "Вам необходимо реализовать эту функцию."
   ]
  },
  {
   "cell_type": "code",
   "execution_count": 2,
   "metadata": {},
   "outputs": [],
   "source": [
    "def read_data(file_path):\n",
    "    tokens = []\n",
    "    tags = []\n",
    "    tok_1 = []\n",
    "    tag_1 = []\n",
    "    \n",
    "    f=open(file_path,\"r\",encoding=\"utf-8\" )\n",
    "    for line in f:\n",
    "        spi = line.split()\n",
    "        if(len(spi) == 2):\n",
    "            tok , tag = spi\n",
    "            if (tok[0] is '@'):\n",
    "                tok = '<USR>'\n",
    "                \n",
    "\n",
    "            if (tok.find('http://') + 1):\n",
    "                tok = '<URL>'\n",
    "            if (tok.find('https://') + 1):\n",
    "                tok = '<URL>'\n",
    "                \n",
    "            tok_1.append(tok)\n",
    "            tag_1.append(tag)\n",
    "        elif(len(spi) == 0):\n",
    "            #print(tok_1)\n",
    "            tokens.append(tok_1)\n",
    "            tags.append(tag_1)\n",
    "            #tokens.insert(0,tok_1)\n",
    "            tok_1 = []\n",
    "            tag_1 = []\n",
    "        \n",
    "    return tokens, tags"
   ]
  },
  {
   "cell_type": "code",
   "execution_count": 3,
   "metadata": {},
   "outputs": [
    {
     "data": {
      "text/plain": [
       "[['1', '1', ' 1'], ['1', '1', ' 1'], []]"
      ]
     },
     "execution_count": 3,
     "metadata": {},
     "output_type": "execute_result"
    }
   ],
   "source": [
    "line  = []\n",
    "pil = ['1' ,'1' ,' 1']\n",
    "line.append(pil)\n",
    "line.append(pil)\n",
    "pil= []\n",
    "line.append(pil)\n",
    "line"
   ]
  },
  {
   "cell_type": "code",
   "execution_count": 4,
   "metadata": {},
   "outputs": [],
   "source": [
    "train_tokens, train_tags = read_data('data/train_1.txt')"
   ]
  },
  {
   "cell_type": "code",
   "execution_count": 5,
   "metadata": {},
   "outputs": [
    {
     "data": {
      "text/plain": [
       "[['RT',\n",
       "  '<USR>',\n",
       "  ':',\n",
       "  'Online',\n",
       "  'ticket',\n",
       "  'sales',\n",
       "  'for',\n",
       "  'Ghostland',\n",
       "  'Observatory',\n",
       "  'extended',\n",
       "  'until',\n",
       "  '6',\n",
       "  'PM',\n",
       "  'EST',\n",
       "  'due',\n",
       "  'to',\n",
       "  'high',\n",
       "  'demand',\n",
       "  '.',\n",
       "  'Get',\n",
       "  'them',\n",
       "  'before',\n",
       "  'they',\n",
       "  'sell',\n",
       "  'out',\n",
       "  '...'],\n",
       " ['Apple',\n",
       "  'MacBook',\n",
       "  'Pro',\n",
       "  'A1278',\n",
       "  '13.3',\n",
       "  '\"',\n",
       "  'Laptop',\n",
       "  '-',\n",
       "  'MD101LL/A',\n",
       "  '(',\n",
       "  'June',\n",
       "  ',',\n",
       "  '2012',\n",
       "  ')',\n",
       "  '-',\n",
       "  'Full',\n",
       "  'read',\n",
       "  'by',\n",
       "  'eBay',\n",
       "  '<URL>',\n",
       "  '<URL>']]"
      ]
     },
     "execution_count": 5,
     "metadata": {},
     "output_type": "execute_result"
    }
   ],
   "source": [
    "train_tokens"
   ]
  },
  {
   "cell_type": "code",
   "execution_count": 6,
   "metadata": {},
   "outputs": [
    {
     "data": {
      "text/plain": [
       "[['O',\n",
       "  'O',\n",
       "  'O',\n",
       "  'O',\n",
       "  'O',\n",
       "  'O',\n",
       "  'O',\n",
       "  'B-musicartist',\n",
       "  'I-musicartist',\n",
       "  'O',\n",
       "  'O',\n",
       "  'O',\n",
       "  'O',\n",
       "  'O',\n",
       "  'O',\n",
       "  'O',\n",
       "  'O',\n",
       "  'O',\n",
       "  'O',\n",
       "  'O',\n",
       "  'O',\n",
       "  'O',\n",
       "  'O',\n",
       "  'O',\n",
       "  'O',\n",
       "  'O'],\n",
       " ['B-product',\n",
       "  'I-product',\n",
       "  'I-product',\n",
       "  'I-product',\n",
       "  'I-product',\n",
       "  'I-product',\n",
       "  'I-product',\n",
       "  'I-product',\n",
       "  'I-product',\n",
       "  'O',\n",
       "  'O',\n",
       "  'O',\n",
       "  'O',\n",
       "  'O',\n",
       "  'O',\n",
       "  'O',\n",
       "  'O',\n",
       "  'O',\n",
       "  'B-company',\n",
       "  'O',\n",
       "  'O']]"
      ]
     },
     "execution_count": 6,
     "metadata": {},
     "output_type": "execute_result"
    }
   ],
   "source": [
    "train_tags"
   ]
  },
  {
   "cell_type": "markdown",
   "metadata": {},
   "source": [
    "Теперь мы можем загрузить 3 части данных:\n",
    " - *train* для тренировки модели;\n",
    " - *validation* для валидации и подбора гиперпараметров;\n",
    " - *test* для финального тестирования."
   ]
  },
  {
   "cell_type": "code",
   "execution_count": 7,
   "metadata": {},
   "outputs": [],
   "source": [
    "train_tokens, train_tags = read_data('data/train.txt')\n",
    "validation_tokens, validation_tags = read_data('data/validation.txt')\n",
    "test_tokens, test_tags = read_data('data/test.txt')"
   ]
  },
  {
   "cell_type": "code",
   "execution_count": 8,
   "metadata": {},
   "outputs": [
    {
     "data": {
      "text/plain": [
       "['RT',\n",
       " '<USR>',\n",
       " ':',\n",
       " 'Online',\n",
       " 'ticket',\n",
       " 'sales',\n",
       " 'for',\n",
       " 'Ghostland',\n",
       " 'Observatory',\n",
       " 'extended',\n",
       " 'until',\n",
       " '6',\n",
       " 'PM',\n",
       " 'EST',\n",
       " 'due',\n",
       " 'to',\n",
       " 'high',\n",
       " 'demand',\n",
       " '.',\n",
       " 'Get',\n",
       " 'them',\n",
       " 'before',\n",
       " 'they',\n",
       " 'sell',\n",
       " 'out',\n",
       " '...']"
      ]
     },
     "execution_count": 8,
     "metadata": {},
     "output_type": "execute_result"
    }
   ],
   "source": [
    "train_tokens[0]"
   ]
  },
  {
   "cell_type": "code",
   "execution_count": 9,
   "metadata": {},
   "outputs": [
    {
     "data": {
      "text/plain": [
       "['O',\n",
       " 'O',\n",
       " 'O',\n",
       " 'O',\n",
       " 'O',\n",
       " 'O',\n",
       " 'O',\n",
       " 'B-musicartist',\n",
       " 'I-musicartist',\n",
       " 'O',\n",
       " 'O',\n",
       " 'O',\n",
       " 'O',\n",
       " 'O',\n",
       " 'O',\n",
       " 'O',\n",
       " 'O',\n",
       " 'O',\n",
       " 'O',\n",
       " 'O',\n",
       " 'O',\n",
       " 'O',\n",
       " 'O',\n",
       " 'O',\n",
       " 'O',\n",
       " 'O']"
      ]
     },
     "execution_count": 9,
     "metadata": {},
     "output_type": "execute_result"
    }
   ],
   "source": [
    "train_tags[0]"
   ]
  },
  {
   "cell_type": "markdown",
   "metadata": {},
   "source": [
    "Всегда полезно знать, с какими данными вы работаете. Выведем небольшую часть."
   ]
  },
  {
   "cell_type": "code",
   "execution_count": 10,
   "metadata": {},
   "outputs": [
    {
     "name": "stdout",
     "output_type": "stream",
     "text": [
      "RT\tO\n",
      "<USR>\tO\n",
      ":\tO\n",
      "Online\tO\n",
      "ticket\tO\n",
      "sales\tO\n",
      "for\tO\n",
      "Ghostland\tB-musicartist\n",
      "Observatory\tI-musicartist\n",
      "extended\tO\n",
      "until\tO\n",
      "6\tO\n",
      "PM\tO\n",
      "EST\tO\n",
      "due\tO\n",
      "to\tO\n",
      "high\tO\n",
      "demand\tO\n",
      ".\tO\n",
      "Get\tO\n",
      "them\tO\n",
      "before\tO\n",
      "they\tO\n",
      "sell\tO\n",
      "out\tO\n",
      "...\tO\n",
      "\n",
      "Apple\tB-product\n",
      "MacBook\tI-product\n",
      "Pro\tI-product\n",
      "A1278\tI-product\n",
      "13.3\tI-product\n",
      "\"\tI-product\n",
      "Laptop\tI-product\n",
      "-\tI-product\n",
      "MD101LL/A\tI-product\n",
      "(\tO\n",
      "June\tO\n",
      ",\tO\n",
      "2012\tO\n",
      ")\tO\n",
      "-\tO\n",
      "Full\tO\n",
      "read\tO\n",
      "by\tO\n",
      "eBay\tB-company\n",
      "<URL>\tO\n",
      "<URL>\tO\n",
      "\n",
      "Happy\tO\n",
      "Birthday\tO\n",
      "<USR>\tO\n",
      "!\tO\n",
      "May\tO\n",
      "Allah\tB-person\n",
      "s.w.t\tO\n",
      "bless\tO\n",
      "you\tO\n",
      "with\tO\n",
      "goodness\tO\n",
      "and\tO\n",
      "happiness\tO\n",
      ".\tO\n",
      "\n"
     ]
    }
   ],
   "source": [
    "for i in range(3):\n",
    "    for token, tag in zip(train_tokens[i], train_tags[i]):\n",
    "        print('%s\\t%s' % (token, tag))\n",
    "    print()"
   ]
  },
  {
   "cell_type": "markdown",
   "metadata": {},
   "source": [
    "### Подготовка словарей\n",
    "\n",
    "Чтобы обучать нейронную сеть, мы будем использовать два отображения.\n",
    "\n",
    "- {token}$\\to${token id}: устанавливает соответствие между токеном и строкой в embedding матрице;\n",
    "- {tag}$\\to${tag id}: one hot encoding тегов.\n",
    "\n",
    "\n",
    "Теперь вам необходимо реализовать функцию *build_dict*, которая должна возвращать словарь {token or tag}$\\to${index} и контейнер, задающий обратное отображение."
   ]
  },
  {
   "cell_type": "code",
   "execution_count": 11,
   "metadata": {},
   "outputs": [],
   "source": [
    "from collections import defaultdict"
   ]
  },
  {
   "cell_type": "code",
   "execution_count": 12,
   "metadata": {},
   "outputs": [],
   "source": [
    "def build_dict(tokens_or_tags, special_tokens):\n",
    "    \"\"\"\n",
    "        tokens_or_tags: a list of lists of tokens or tags\n",
    "        special_tokens: some special tokens\n",
    "    \"\"\"\n",
    "    # Create a dictionary with default value 0\n",
    "    tok2idx = defaultdict(lambda: 0)\n",
    "    idx2tok = []\n",
    "    idx = 0\n",
    "    \n",
    "    for token in special_tokens:\n",
    "        tok2idx[token] = idx\n",
    "        idx2tok.append(token)\n",
    "        idx += 1\n",
    "    for message in tokens_or_tags:\n",
    "        for token in message:\n",
    "            if token not in tok2idx:\n",
    "                tok2idx[token] = idx\n",
    "                idx2tok.append(token)\n",
    "                idx += 1 \n",
    "\n",
    "\n",
    "    return tok2idx, idx2tok"
   ]
  },
  {
   "cell_type": "markdown",
   "metadata": {},
   "source": [
    "После реализации функции *build_dict* вы можете создать словари для токенов и тегов. В нашем случае специальными токенами будут:\n",
    " - `<UNK>` токен для обозначаения слов, которых нет в словаре;\n",
    " - `<PAD>` токен для дополнения предложений одного батча до одинаковой длины."
   ]
  },
  {
   "cell_type": "code",
   "execution_count": 13,
   "metadata": {},
   "outputs": [],
   "source": [
    "special_tokens = ['<UNK>', '<PAD>']\n",
    "special_tags = ['O']\n",
    "\n",
    "# Create dictionaries \n",
    "token2idx, idx2token = build_dict(train_tokens + validation_tokens, special_tokens)\n",
    "tag2idx, idx2tag = build_dict(train_tags, special_tags)"
   ]
  },
  {
   "cell_type": "code",
   "execution_count": 14,
   "metadata": {},
   "outputs": [],
   "source": [
    "train_idxs = []\n",
    "train_tag_idxs = []\n",
    "for i in range(len(train_tokens)):\n",
    "    train_idxs.append([])\n",
    "    train_tag_idxs.append([])\n",
    "    for j in range(len(train_tokens[i])):\n",
    "        train_idxs[i].append(token2idx[train_tokens[i][j]])\n",
    "        train_tag_idxs[i].append(tag2idx[train_tags[i][j]])"
   ]
  },
  {
   "cell_type": "code",
   "execution_count": 15,
   "metadata": {},
   "outputs": [],
   "source": [
    "test_idxs = []\n",
    "test_tag_idxs = []\n",
    "for i in range(len(test_tokens)):\n",
    "    test_idxs.append([])\n",
    "    test_tag_idxs.append([])\n",
    "    for j in range(len(test_tokens[i])):\n",
    "        test_idxs[i].append(token2idx[test_tokens[i][j]])\n",
    "        test_tag_idxs[i].append(tag2idx[test_tags[i][j]])"
   ]
  },
  {
   "cell_type": "markdown",
   "metadata": {},
   "source": [
    "### Генератор батчей\n",
    "\n",
    "Обычно нейронные сети обучаются батчами. Это означает, что каждое обновление весов нейронной сети происходит на основе нескольких последовательностей. Технической деталью является необходимость дополнить все последовательности внутри батча до одной длины. Для некоторых фреймворков (таких как tensorflow) это необходимо сделать до подачи батча в нейронную сеть. В случае с pytorch это можно сделать как вне архитектуры нейронной сети, так и внутри. Мы выбрали более универсальный вариант и наш генератор батчей дополняет все последовательности внутри одного батча до одной длины.\n",
    "\n",
    "Генератор батчей разбивает последовательность входных предложений и тегов на батчи размера batch_size. Размер последнего батча может быть меньше, если allow_smaller_last_batch is True, иначе последний батч исключается из генератора. Если включён параметр shuffle, данные перед разделением на батчи будут перемешаны. "
   ]
  },
  {
   "cell_type": "code",
   "execution_count": 16,
   "metadata": {},
   "outputs": [],
   "source": [
    "def batches_generator(batch_size, tokens_idxs, tags_idxs,\n",
    "                      shuffle=True, allow_smaller_last_batch=True, device='cpu'):\n",
    "    \"\"\"\n",
    "    Generates padded batches of tags_idxs and tags_idxs.\n",
    "    \n",
    "    batch_size : int, number of objects in one batch\n",
    "    tokens_idxs : list of list of int\n",
    "    tags_idxs : list of list of int\n",
    "    shuffle : bool\n",
    "    allow_smaller_last_batch : bool\n",
    "    device: str, cpu or cuda:x\n",
    "    \n",
    "    yield x, y: torch.LongTensor and torch.LongTensor\n",
    "    x - batch of tokens_idxs, y - batch of tags_idxs\n",
    "    \"\"\"\n",
    "    n_samples = len(tokens_idxs)\n",
    "    idxs = np.arange(n_samples)\n",
    "    \n",
    "    # Shuffle data if shuffle is True.\n",
    "    # Don't modify the original tokens and tags!\n",
    "    \n",
    "    if(shuffle):\n",
    "        np.random.shuffle(idxs)\n",
    "    \n",
    "    # Get the number of batches\n",
    "    # n_batches \n",
    "    \n",
    "    if allow_smaller_last_batch:\n",
    "        n_batches = n_samples // batch_size \n",
    "        n_batches += 1 if n_samples % n_batches else 0\n",
    "    else:\n",
    "        n_batches = n_samples // batch_size\n",
    "    \n",
    "    \n",
    "    \n",
    "    \n",
    "    # For each k yield pair x and y\n",
    "    for k in range(n_batches):\n",
    "        if (k + 1) * batch_size > n_samples:\n",
    "            batch_idxs = idxs[k * batch_size:]\n",
    "            batch_size = n_samples - k * batch_size\n",
    "        else:\n",
    "            batch_idxs = idxs[k * batch_size: (k + 1) * batch_size]\n",
    "        \n",
    "        max_len = max([len(tokens_idxs[i]) for i in batch_idxs])\n",
    "        x = torch.ones((batch_size,max_len))\n",
    "        y = torch.zeros((batch_size,max_len))\n",
    "        for i in range(batch_size):\n",
    "            for j in range(len(tokens_idxs[batch_idxs[i]])):\n",
    "                x[i,j] = tokens_idxs[batch_idxs[i]][j]\n",
    "                y[i,j] = tags_idxs[batch_idxs[i]][j]      \n",
    "        \n",
    "        x = x.long().to(device)\n",
    "        y = y.long().to(device)\n",
    "        \n",
    "        yield x, y"
   ]
  },
  {
   "cell_type": "markdown",
   "metadata": {},
   "source": [
    "Протестируйте ваш генератор батчей:"
   ]
  },
  {
   "cell_type": "code",
   "execution_count": 17,
   "metadata": {},
   "outputs": [],
   "source": [
    "test_nonrandom_batch_generator = batches_generator(\n",
    "    batch_size=3,\n",
    "    tokens_idxs=train_idxs[:7],\n",
    "    tags_idxs=train_tag_idxs[:7],\n",
    "    shuffle=False,\n",
    "    allow_smaller_last_batch=True\n",
    ")\n",
    "\n",
    "batch_lengths = [3, 3, 1]\n",
    "sequence_lengths = [26, 25, 8]\n",
    "some_pad_tensor = torch.LongTensor([token2idx['<PAD>']] * 12)\n",
    "some_outside_tensor = torch.LongTensor([tag2idx['O'] * 12])\n",
    "\n",
    "for i, (tokens_batch, tags_batch) in enumerate(test_nonrandom_batch_generator):\n",
    "    assert tokens_batch.dtype == torch.int64, 'tokens_batch is not LongTensor'\n",
    "    assert tags_batch.dtype == torch.int64, 'tags_batch is not LongTensor'\n",
    "    \n",
    "    assert len(tokens_batch) == batch_lengths[i], 'wrong batch length'\n",
    "    \n",
    "    for one_token_sequence in tokens_batch:\n",
    "        assert len(one_token_sequence) == sequence_lengths[i], 'wrong length of sequence in batch'\n",
    "    \n",
    "    if i == 0:\n",
    "        assert torch.all(tokens_batch[2][-12:] == some_pad_tensor), \"wrong padding\"       \n",
    "        assert torch.all(tags_batch[2][-12:] == some_outside_tensor), \"wrong O tag\""
   ]
  },
  {
   "cell_type": "markdown",
   "metadata": {},
   "source": [
    "## Часть 2. BiLSTM (3 балла)\n",
    "\n",
    "Определите архитектуру сети, используя библиотеку pytorch. \n",
    "\n",
    "**Замечания:**\n",
    "1. Для улучшения качества сети предлагается использовать дополнительный Embedding слой на входе (каждому слову ставится в соответствие обучаемый вектор). \n",
    "\n",
    "2. Не забудьте, что `<PAD>` токены не должны учавствовать в подсчёте функции потерь."
   ]
  },
  {
   "cell_type": "code",
   "execution_count": 112,
   "metadata": {},
   "outputs": [],
   "source": [
    "class BiLSTMModel(torch.nn.Module):\n",
    "    def __init__(self, vocabulary_size, n_tags, PAD_index,\n",
    "                 embedding_dim, rnn_hidden_size,\n",
    "                 dropout_zeroed_probability,\n",
    "                 device='cpu'):\n",
    "        '''\n",
    "        Defines neural network structure.\n",
    "        \n",
    "        architecture: input -> Embedding -> BiLSTM -> Dropout -> Linear\n",
    "        optimizer: Adam\n",
    "        \n",
    "        ----------\n",
    "        Parameters\n",
    "        \n",
    "        vocabulary_size: int, number of words in vocabulary.\n",
    "        n_tags: int, number of tags.\n",
    "        PAD_index: int, index of padding character. Used for loss masking.\n",
    "        embedding_dim: int, dimension of words' embeddings.\n",
    "        rnn_hidden_size: int, number of hidden units in each LSTM cell\n",
    "        dropout_zeroed_probability: float, dropout zeroed probability for Dropout layer.\n",
    "        device: str, cpu or cuda:x\n",
    "        '''\n",
    "        super(BiLSTMModel, self).__init__()        \n",
    "        self.embedding = nn.Embedding(vocabulary_size,embedding_dim,)\n",
    "        self.lstm = nn.LSTM(embedding_dim, rnn_hidden_size,bidirectional=True,batch_first=True)\n",
    "        self.hidden2tag = nn.Linear(2*rnn_hidden_size,n_tags)\n",
    "        self.dropout = nn.Dropout(dropout_zeroed_probability) \n",
    "    def forward(self, x_batch):\n",
    "        '''\n",
    "        Makes forward pass.\n",
    "        \n",
    "        ----------\n",
    "        Parameters\n",
    "        x_batch: torch.LongTensor with shape (number of samples in batch, number words in sentence).\n",
    "        '''\n",
    "        cod_batch = self.embedding(x_batch)\n",
    "        lstm_out, _ = self.lstm(cod_batch)\n",
    "        lstm_out = self.dropout(lstm_out)\n",
    "        return self.hidden2tag(lstm_out)       \n",
    "    \n",
    "    def predict_for_batch(self, x_batch):\n",
    "        '''\n",
    "        Returns predictions for x_batch.\n",
    "        \n",
    "        return type: torch.LongTensor\n",
    "        return shape: (number of samples in batch, number words in sentence.\n",
    "        \n",
    "        ----------\n",
    "        Parameters\n",
    "        x_batch: torch.LongTensor with shape (number of samples in batch, number words in sentence).\n",
    "        '''\n",
    "        self.eval()\n",
    "        with torch.no_grad():\n",
    "            f_batch = self.forward(x_batch)\n",
    "        self.train()\n",
    "        return f_batch.argmax(dim=2)        \n",
    "    \n",
    "                          \n",
    "    def train_on_batch (self, x_batch, y_batch, optimizer, loss_function):\n",
    "        '''\n",
    "        Trains model on the given batch.\n",
    "        \n",
    "        ----------\n",
    "        Parameters\n",
    "        x_batch: np.ndarray with shape (number of samples in batch, number words in sentence).\n",
    "        y_batch: np.ndarray with shape (number of samples in batch).\n",
    "        optimizer: torch.optimizer class\n",
    "        loss_function: torch loss class\n",
    "        '''\n",
    "        optimizer.zero_grad()\n",
    "        y = model.forward(x_batch).max(dim=2)[0]\n",
    "        loss = loss_function(y,y_batch)\n",
    "        loss.backward()\n",
    "        optimizer.step()\n",
    "        return loss.item()       \n"
   ]
  },
  {
   "cell_type": "markdown",
   "metadata": {},
   "source": [
    "Для тестирования сети мы подготовили для вас две функции:\n",
    " - *predict_tags*: получает батч данных и трансформирует его в список из токенов и предсказанных тегов;\n",
    " - *eval_conll*: вычисляет метрики precision, recall и F1"
   ]
  },
  {
   "cell_type": "code",
   "execution_count": 19,
   "metadata": {},
   "outputs": [],
   "source": [
    "from evaluation_ner import precision_recall_f1"
   ]
  },
  {
   "cell_type": "code",
   "execution_count": 20,
   "metadata": {},
   "outputs": [],
   "source": [
    "def predict_tags(model, token_idxs_batch):\n",
    "    \"\"\"Performs predictions and transforms indices to tokens and tags.\"\"\"\n",
    "    \n",
    "    tag_idxs_batch = model.predict_for_batch(token_idxs_batch)\n",
    "    tags_batch, tokens_batch = [], []\n",
    "    for tag_idxs, token_idxs in zip(tag_idxs_batch, token_idxs_batch):\n",
    "        tags, tokens = [], []\n",
    "        for tag_idx, token_idx in zip(tag_idxs, token_idxs):\n",
    "            if token_idx != token2idx['<PAD>']:\n",
    "                tags.append(idx2tag[tag_idx])\n",
    "                tokens.append(idx2token[token_idx])\n",
    "        tags_batch.append(tags)\n",
    "        tokens_batch.append(tokens)\n",
    "    return tags_batch, tokens_batch\n",
    "    \n",
    "    \n",
    "def eval_conll(model, tokens, tags, short_report=True):\n",
    "    \"\"\"Computes NER quality measures using CONLL shared task script.\"\"\"\n",
    "    \n",
    "    y_true, y_pred = [], []\n",
    "    for x_batch, y_batch in batches_generator(1, tokens, tags):\n",
    "        tags_batch, tokens_batch = predict_tags(model, x_batch)\n",
    "        ground_truth_tags = [idx2tag[tag_idx] for tag_idx in y_batch[0]]\n",
    "\n",
    "        # We extend every prediction and ground truth sequence with 'O' tag\n",
    "        # to indicate a possible end of entity.\n",
    "        y_true.extend(ground_truth_tags + ['O'])\n",
    "        y_pred.extend(tags_batch[0] + ['O'])\n",
    "    results = precision_recall_f1(y_true, y_pred, print_results=True, short_report=short_report)\n",
    "    return results"
   ]
  },
  {
   "cell_type": "code",
   "execution_count": 113,
   "metadata": {},
   "outputs": [],
   "source": [
    "model= BiLSTMModel(len(token2idx),len(tag2idx),1,200,200,0.1)"
   ]
  },
  {
   "cell_type": "code",
   "execution_count": 114,
   "metadata": {},
   "outputs": [
    {
     "name": "stdout",
     "output_type": "stream",
     "text": [
      "processed 9087 tokens with 393 phrases; found: 6937 phrases; correct: 18.\n",
      "\n",
      "precision:  0.26%; recall:  4.58%; F1:  0.49\n",
      "\n"
     ]
    },
    {
     "data": {
      "text/plain": [
       "OrderedDict([('company',\n",
       "              OrderedDict([('precision', 0.5115089514066496),\n",
       "                           ('recall', 5.797101449275362),\n",
       "                           ('f1', 0.9400705052878967),\n",
       "                           ('n_predicted_entities', 782),\n",
       "                           ('n_true_entities', 69)])),\n",
       "             ('facility',\n",
       "              OrderedDict([('precision', 0.0),\n",
       "                           ('recall', 0.0),\n",
       "                           ('f1', 0),\n",
       "                           ('n_predicted_entities', 428),\n",
       "                           ('n_true_entities', 21)])),\n",
       "             ('geo-loc',\n",
       "              OrderedDict([('precision', 0.0),\n",
       "                           ('recall', 0.0),\n",
       "                           ('f1', 0),\n",
       "                           ('n_predicted_entities', 214),\n",
       "                           ('n_true_entities', 73)])),\n",
       "             ('movie',\n",
       "              OrderedDict([('precision', 0.0),\n",
       "                           ('recall', 0.0),\n",
       "                           ('f1', 0),\n",
       "                           ('n_predicted_entities', 747),\n",
       "                           ('n_true_entities', 4)])),\n",
       "             ('musicartist',\n",
       "              OrderedDict([('precision', 0.20491803278688525),\n",
       "                           ('recall', 4.166666666666666),\n",
       "                           ('f1', 0.390625),\n",
       "                           ('n_predicted_entities', 488),\n",
       "                           ('n_true_entities', 24)])),\n",
       "             ('other',\n",
       "              OrderedDict([('precision', 0.5050505050505051),\n",
       "                           ('recall', 2.941176470588235),\n",
       "                           ('f1', 0.8620689655172414),\n",
       "                           ('n_predicted_entities', 396),\n",
       "                           ('n_true_entities', 68)])),\n",
       "             ('person',\n",
       "              OrderedDict([('precision', 0.5181347150259068),\n",
       "                           ('recall', 9.210526315789473),\n",
       "                           ('f1', 0.9810791871058165),\n",
       "                           ('n_predicted_entities', 1351),\n",
       "                           ('n_true_entities', 76)])),\n",
       "             ('product',\n",
       "              OrderedDict([('precision', 0.1855287569573284),\n",
       "                           ('recall', 5.405405405405405),\n",
       "                           ('f1', 0.35874439461883406),\n",
       "                           ('n_predicted_entities', 1078),\n",
       "                           ('n_true_entities', 37)])),\n",
       "             ('sportsteam',\n",
       "              OrderedDict([('precision', 0.1976284584980237),\n",
       "                           ('recall', 5.88235294117647),\n",
       "                           ('f1', 0.3824091778202677),\n",
       "                           ('n_predicted_entities', 506),\n",
       "                           ('n_true_entities', 17)])),\n",
       "             ('tvshow',\n",
       "              OrderedDict([('precision', 0.10559662090813093),\n",
       "                           ('recall', 25.0),\n",
       "                           ('f1', 0.2103049421661409),\n",
       "                           ('n_predicted_entities', 947),\n",
       "                           ('n_true_entities', 4)]))])"
      ]
     },
     "execution_count": 114,
     "metadata": {},
     "output_type": "execute_result"
    }
   ],
   "source": [
    "eval_conll(model,train_idxs[:500],train_tag_idxs[:500])"
   ]
  },
  {
   "cell_type": "markdown",
   "metadata": {},
   "source": [
    "### Эксперименты\n",
    "\n",
    "Задайте BiLSTMModel. Рекомендуемые параметры:\n",
    "- *batch_size*: 32;\n",
    "- начальное значение *learning_rate*: 0.01-0.001\n",
    "- *dropout_zeroed_probability*: 0.7-0.9\n",
    "- *embedding_dim*: 100-200\n",
    "- *rnn_hidden_size*: 150-200"
   ]
  },
  {
   "cell_type": "markdown",
   "metadata": {},
   "source": [
    "Проведите эксперименты на данных. Настраивайте параметры по валидационной выборке, не используя тестовую. Ваше цель — настроить сеть так, чтобы качество модели по F1 мере на валидационной и тестовой выборках было не меньше 0.35. \n",
    "\n",
    "Если сеть плохо обучается, попробуйте использовать следующие модификации:\n",
    "    * используйте gradient clipping\n",
    "    * на каждой итерации уменьшайте learning rate (например, в 1.1 раз)\n",
    "    * попробуйте вместо Adam другие оптимизаторы \n",
    "    * экспериментируйте с dropout\n",
    "\n",
    "Сделайте выводы о качестве модели, переобучении, чувствительности архитектуры к выбору гиперпараметров. Оформите результаты экспериментов в виде мини-отчета (в этом же ipython notebook)."
   ]
  },
  {
   "cell_type": "code",
   "execution_count": 87,
   "metadata": {},
   "outputs": [],
   "source": [
    "\n",
    "    device ='cpu'"
   ]
  },
  {
   "cell_type": "markdown",
   "metadata": {},
   "source": [
    "class BiLSTMModel(torch.nn.Module):\n",
    "    def __init__(self, vocabulary_size, n_tags, PAD_index,\n",
    "                 embedding_dim, rnn_hidden_size,\n",
    "                 dropout_zeroed_probability,\n",
    "                 device='cpu'):"
   ]
  },
  {
   "cell_type": "code",
   "execution_count": 88,
   "metadata": {},
   "outputs": [],
   "source": [
    "# гиперпараметры\n",
    "batch_size = 32;\n",
    "learning_rate = 1\n",
    "dropout_zeroed_probability = 0.7\n",
    "embedding_dim = 150\n",
    "rnn_hidden_size = 150"
   ]
  },
  {
   "cell_type": "code",
   "execution_count": 116,
   "metadata": {},
   "outputs": [],
   "source": [
    "model= BiLSTMModel(len(token2idx),len(tag2idx),1,200,200,0.7)       "
   ]
  },
  {
   "cell_type": "code",
   "execution_count": 117,
   "metadata": {},
   "outputs": [
    {
     "data": {
      "text/plain": [
       "'cpu'"
      ]
     },
     "execution_count": 117,
     "metadata": {},
     "output_type": "execute_result"
    }
   ],
   "source": [
    "device"
   ]
  },
  {
   "cell_type": "code",
   "execution_count": 128,
   "metadata": {},
   "outputs": [],
   "source": [
    "optimizer = torch.optim.SGD(model.parameters(),lr=1 , momentum=0.7)\n",
    "#criterion = nn.BCEWithLogitsLoss\n",
    "scheduler = torch.optim.lr_scheduler.StepLR(optimizer,1, gamma=0.91)"
   ]
  },
  {
   "cell_type": "code",
   "execution_count": 129,
   "metadata": {},
   "outputs": [
    {
     "name": "stdout",
     "output_type": "stream",
     "text": [
      "loss on epoch 0 = -1313.54791 , lr = 0.91\n",
      "loss on epoch 1 = -1020.16504 , lr = 0.8281\n",
      "loss on epoch 2 = -1188.42942 , lr = 0.75357\n",
      "loss on epoch 3 = -1254.58205 , lr = 0.68575\n",
      "loss on epoch 4 = -1426.32766 , lr = 0.62403\n",
      "loss on epoch 5 = -1533.13505 , lr = 0.56787\n",
      "loss on epoch 6 = -1574.21891 , lr = 0.51676\n",
      "loss on epoch 7 = -1818.04578 , lr = 0.47025\n",
      "loss on epoch 8 = -1806.16994 , lr = 0.42793\n",
      "loss on epoch 9 = -2154.15102 , lr = 0.38942\n",
      "loss on epoch 10 = -1968.46854 , lr = 0.35437\n",
      "loss on epoch 11 = -2097.83903 , lr = 0.32248\n",
      "loss on epoch 12 = -2217.20727 , lr = 0.29345\n",
      "loss on epoch 13 = -2267.08835 , lr = 0.26704\n",
      "loss on epoch 14 = -2366.60061 , lr = 0.24301\n",
      "loss on epoch 15 = -2437.22015 , lr = 0.22114\n",
      "loss on epoch 16 = -2491.01243 , lr = 0.20124\n",
      "loss on epoch 17 = -2606.92173 , lr = 0.18312\n",
      "loss on epoch 18 = -2792.17506 , lr = 0.16664\n",
      "loss on epoch 19 = -2642.23201 , lr = 0.15164\n",
      "loss on epoch 20 = -2723.76933 , lr = 0.138\n",
      "loss on epoch 21 = -2826.14927 , lr = 0.12558\n",
      "loss on epoch 22 = -2905.72175 , lr = 0.11428\n",
      "loss on epoch 23 = -2816.54399 , lr = 0.10399\n",
      "loss on epoch 24 = -2874.70978 , lr = 0.09463\n",
      "loss on epoch 25 = -2914.17676 , lr = 0.08611\n",
      "loss on epoch 26 = -2982.11655 , lr = 0.07836\n",
      "loss on epoch 27 = -3312.82381 , lr = 0.07131\n",
      "loss on epoch 28 = -3047.2712 , lr = 0.06489\n",
      "loss on epoch 29 = -3053.87035 , lr = 0.05905\n",
      "loss on epoch 30 = -3296.47977 , lr = 0.05374\n",
      "loss on epoch 31 = -3116.78498 , lr = 0.0489\n",
      "loss on epoch 32 = -3097.83323 , lr = 0.0445\n",
      "loss on epoch 33 = -3253.32802 , lr = 0.0405\n",
      "loss on epoch 34 = -3173.70033 , lr = 0.03685\n",
      "loss on epoch 35 = -3230.30527 , lr = 0.03353\n",
      "loss on epoch 36 = -3234.05765 , lr = 0.03052\n",
      "loss on epoch 37 = -3334.41117 , lr = 0.02777\n",
      "loss on epoch 38 = -3242.99046 , lr = 0.02527\n",
      "loss on epoch 39 = -3354.53405 , lr = 0.023\n",
      "loss on epoch 40 = -3350.9946 , lr = 0.02093\n",
      "loss on epoch 41 = -3299.96943 , lr = 0.01904\n",
      "loss on epoch 42 = -3203.99462 , lr = 0.01733\n",
      "loss on epoch 43 = -3367.78829 , lr = 0.01577\n",
      "loss on epoch 44 = -3353.48006 , lr = 0.01435\n",
      "loss on epoch 45 = -3292.23338 , lr = 0.01306\n",
      "loss on epoch 46 = -3485.55103 , lr = 0.01188\n",
      "loss on epoch 47 = -3363.18722 , lr = 0.01081\n",
      "loss on epoch 48 = -3414.71019 , lr = 0.00984\n",
      "loss on epoch 49 = -3327.43315 , lr = 0.00896\n",
      "loss on epoch 50 = -3326.42971 , lr = 0.00815\n",
      "loss on epoch 51 = -3346.75088 , lr = 0.00742\n",
      "loss on epoch 52 = -3415.59411 , lr = 0.00675\n",
      "loss on epoch 53 = -3366.05758 , lr = 0.00614\n",
      "loss on epoch 54 = -3373.84649 , lr = 0.00559\n",
      "loss on epoch 55 = -3378.85126 , lr = 0.00509\n",
      "loss on epoch 56 = -3519.83987 , lr = 0.00463\n",
      "loss on epoch 57 = -3462.14243 , lr = 0.00421\n",
      "loss on epoch 58 = -3355.2966 , lr = 0.00383\n",
      "loss on epoch 59 = -3376.9391 , lr = 0.00349\n",
      "loss on epoch 60 = -3249.91141 , lr = 0.00317\n",
      "loss on epoch 61 = -3281.35106 , lr = 0.00289\n",
      "loss on epoch 62 = -3306.50147 , lr = 0.00263\n"
     ]
    },
    {
     "ename": "KeyboardInterrupt",
     "evalue": "",
     "output_type": "error",
     "traceback": [
      "\u001b[1;31m---------------------------------------------------------------------------\u001b[0m",
      "\u001b[1;31mKeyboardInterrupt\u001b[0m                         Traceback (most recent call last)",
      "\u001b[1;32m<ipython-input-129-be9515031269>\u001b[0m in \u001b[0;36m<module>\u001b[1;34m\u001b[0m\n\u001b[0;32m      8\u001b[0m         \u001b[0my_batch\u001b[0m \u001b[1;33m=\u001b[0m \u001b[0my_batch\u001b[0m\u001b[1;33m.\u001b[0m\u001b[0mfloat\u001b[0m\u001b[1;33m(\u001b[0m\u001b[1;33m)\u001b[0m\u001b[1;33m\u001b[0m\u001b[1;33m\u001b[0m\u001b[0m\n\u001b[0;32m      9\u001b[0m         \u001b[1;31m#print(y_batch[0][0])\u001b[0m\u001b[1;33m\u001b[0m\u001b[1;33m\u001b[0m\u001b[1;33m\u001b[0m\u001b[0m\n\u001b[1;32m---> 10\u001b[1;33m         \u001b[0mloss\u001b[0m\u001b[1;33m[\u001b[0m\u001b[0mepoch\u001b[0m\u001b[1;33m]\u001b[0m \u001b[1;33m+=\u001b[0m \u001b[0mmodel\u001b[0m\u001b[1;33m.\u001b[0m\u001b[0mtrain_on_batch\u001b[0m\u001b[1;33m(\u001b[0m\u001b[0mx_batch\u001b[0m\u001b[1;33m,\u001b[0m \u001b[0my_batch\u001b[0m\u001b[1;33m,\u001b[0m\u001b[0moptimizer\u001b[0m\u001b[1;33m,\u001b[0m\u001b[0mcriterion\u001b[0m\u001b[1;33m)\u001b[0m\u001b[1;33m\u001b[0m\u001b[1;33m\u001b[0m\u001b[0m\n\u001b[0m\u001b[0;32m     11\u001b[0m         \u001b[0mi\u001b[0m \u001b[1;33m+=\u001b[0m\u001b[1;36m1\u001b[0m\u001b[1;33m\u001b[0m\u001b[1;33m\u001b[0m\u001b[0m\n\u001b[0;32m     12\u001b[0m \u001b[1;33m\u001b[0m\u001b[0m\n",
      "\u001b[1;32m<ipython-input-112-4ef980838282>\u001b[0m in \u001b[0;36mtrain_on_batch\u001b[1;34m(self, x_batch, y_batch, optimizer, loss_function)\u001b[0m\n\u001b[0;32m     71\u001b[0m         \u001b[0my\u001b[0m \u001b[1;33m=\u001b[0m \u001b[0mmodel\u001b[0m\u001b[1;33m.\u001b[0m\u001b[0mforward\u001b[0m\u001b[1;33m(\u001b[0m\u001b[0mx_batch\u001b[0m\u001b[1;33m)\u001b[0m\u001b[1;33m.\u001b[0m\u001b[0mmax\u001b[0m\u001b[1;33m(\u001b[0m\u001b[0mdim\u001b[0m\u001b[1;33m=\u001b[0m\u001b[1;36m2\u001b[0m\u001b[1;33m)\u001b[0m\u001b[1;33m[\u001b[0m\u001b[1;36m0\u001b[0m\u001b[1;33m]\u001b[0m\u001b[1;33m\u001b[0m\u001b[1;33m\u001b[0m\u001b[0m\n\u001b[0;32m     72\u001b[0m         \u001b[0mloss\u001b[0m \u001b[1;33m=\u001b[0m \u001b[0mloss_function\u001b[0m\u001b[1;33m(\u001b[0m\u001b[0my\u001b[0m\u001b[1;33m,\u001b[0m\u001b[0my_batch\u001b[0m\u001b[1;33m)\u001b[0m\u001b[1;33m\u001b[0m\u001b[1;33m\u001b[0m\u001b[0m\n\u001b[1;32m---> 73\u001b[1;33m         \u001b[0mloss\u001b[0m\u001b[1;33m.\u001b[0m\u001b[0mbackward\u001b[0m\u001b[1;33m(\u001b[0m\u001b[1;33m)\u001b[0m\u001b[1;33m\u001b[0m\u001b[1;33m\u001b[0m\u001b[0m\n\u001b[0m\u001b[0;32m     74\u001b[0m         \u001b[0moptimizer\u001b[0m\u001b[1;33m.\u001b[0m\u001b[0mstep\u001b[0m\u001b[1;33m(\u001b[0m\u001b[1;33m)\u001b[0m\u001b[1;33m\u001b[0m\u001b[1;33m\u001b[0m\u001b[0m\n\u001b[0;32m     75\u001b[0m         \u001b[1;32mreturn\u001b[0m \u001b[0mloss\u001b[0m\u001b[1;33m.\u001b[0m\u001b[0mitem\u001b[0m\u001b[1;33m(\u001b[0m\u001b[1;33m)\u001b[0m\u001b[1;33m\u001b[0m\u001b[1;33m\u001b[0m\u001b[0m\n",
      "\u001b[1;32mC:\\Apps\\anaconda3\\lib\\site-packages\\torch\\tensor.py\u001b[0m in \u001b[0;36mbackward\u001b[1;34m(self, gradient, retain_graph, create_graph)\u001b[0m\n\u001b[0;32m    116\u001b[0m                 \u001b[0mproducts\u001b[0m\u001b[1;33m.\u001b[0m \u001b[0mDefaults\u001b[0m \u001b[0mto\u001b[0m\u001b[0;31m \u001b[0m\u001b[0;31m`\u001b[0m\u001b[0;31m`\u001b[0m\u001b[1;32mFalse\u001b[0m\u001b[0;31m`\u001b[0m\u001b[0;31m`\u001b[0m\u001b[1;33m.\u001b[0m\u001b[1;33m\u001b[0m\u001b[1;33m\u001b[0m\u001b[0m\n\u001b[0;32m    117\u001b[0m         \"\"\"\n\u001b[1;32m--> 118\u001b[1;33m         \u001b[0mtorch\u001b[0m\u001b[1;33m.\u001b[0m\u001b[0mautograd\u001b[0m\u001b[1;33m.\u001b[0m\u001b[0mbackward\u001b[0m\u001b[1;33m(\u001b[0m\u001b[0mself\u001b[0m\u001b[1;33m,\u001b[0m \u001b[0mgradient\u001b[0m\u001b[1;33m,\u001b[0m \u001b[0mretain_graph\u001b[0m\u001b[1;33m,\u001b[0m \u001b[0mcreate_graph\u001b[0m\u001b[1;33m)\u001b[0m\u001b[1;33m\u001b[0m\u001b[1;33m\u001b[0m\u001b[0m\n\u001b[0m\u001b[0;32m    119\u001b[0m \u001b[1;33m\u001b[0m\u001b[0m\n\u001b[0;32m    120\u001b[0m     \u001b[1;32mdef\u001b[0m \u001b[0mregister_hook\u001b[0m\u001b[1;33m(\u001b[0m\u001b[0mself\u001b[0m\u001b[1;33m,\u001b[0m \u001b[0mhook\u001b[0m\u001b[1;33m)\u001b[0m\u001b[1;33m:\u001b[0m\u001b[1;33m\u001b[0m\u001b[1;33m\u001b[0m\u001b[0m\n",
      "\u001b[1;32mC:\\Apps\\anaconda3\\lib\\site-packages\\torch\\autograd\\__init__.py\u001b[0m in \u001b[0;36mbackward\u001b[1;34m(tensors, grad_tensors, retain_graph, create_graph, grad_variables)\u001b[0m\n\u001b[0;32m     91\u001b[0m     Variable._execution_engine.run_backward(\n\u001b[0;32m     92\u001b[0m         \u001b[0mtensors\u001b[0m\u001b[1;33m,\u001b[0m \u001b[0mgrad_tensors\u001b[0m\u001b[1;33m,\u001b[0m \u001b[0mretain_graph\u001b[0m\u001b[1;33m,\u001b[0m \u001b[0mcreate_graph\u001b[0m\u001b[1;33m,\u001b[0m\u001b[1;33m\u001b[0m\u001b[1;33m\u001b[0m\u001b[0m\n\u001b[1;32m---> 93\u001b[1;33m         allow_unreachable=True)  # allow_unreachable flag\n\u001b[0m\u001b[0;32m     94\u001b[0m \u001b[1;33m\u001b[0m\u001b[0m\n\u001b[0;32m     95\u001b[0m \u001b[1;33m\u001b[0m\u001b[0m\n",
      "\u001b[1;31mKeyboardInterrupt\u001b[0m: "
     ]
    }
   ],
   "source": [
    "num_epoch = 100\n",
    "loss = []\n",
    "for epoch in range(num_epoch):\n",
    "    loss.append(0.)\n",
    "    i = 0\n",
    "    for x_batch, y_batch in batches_generator(32,train_idxs[:400],train_tag_idxs[:400]):\n",
    "    \n",
    "        y_batch = y_batch.float()\n",
    "        #print(y_batch[0][0])\n",
    "        loss[epoch] += model.train_on_batch(x_batch, y_batch,optimizer,criterion)\n",
    "        i +=1\n",
    "\n",
    "    scheduler.step()\n",
    "    lr = scheduler.optimizer.param_groups[0]['lr']\n",
    "    print(\"loss on epoch {} = {} , lr = {}\".format(epoch,round(loss[epoch]/i , 5) , round(lr , 5)))"
   ]
  },
  {
   "cell_type": "code",
   "execution_count": 131,
   "metadata": {},
   "outputs": [
    {
     "data": {
      "image/png": "[encoded data removed]",
      "text/plain": [
       "<Figure size 1152x648 with 1 Axes>"
      ]
     },
     "metadata": {
      "needs_background": "light"
     },
     "output_type": "display_data"
    }
   ],
   "source": [
    "import matplotlib.pyplot as plt\n",
    "plt.figure(figsize = (16,9))\n",
    "epo =  range(62) \n",
    "plt.plot(epo, loss[1:-1] ,color = 'r', label = 'LOSS')\n",
    "\n",
    "plt.grid()\n",
    "plt.show()"
   ]
  },
  {
   "cell_type": "code",
   "execution_count": 132,
   "metadata": {},
   "outputs": [
    {
     "name": "stdout",
     "output_type": "stream",
     "text": [
      "processed 98524 tokens with 4170 phrases; found: 76794 phrases; correct: 54.\n",
      "\n",
      "precision:  0.07%; recall:  1.29%; F1:  0.13\n",
      "\n"
     ]
    },
    {
     "data": {
      "text/plain": [
       "OrderedDict([('company',\n",
       "              OrderedDict([('precision', 0.0514668039114771),\n",
       "                           ('recall', 0.33557046979865773),\n",
       "                           ('f1', 0.0892458723784025),\n",
       "                           ('n_predicted_entities', 3886),\n",
       "                           ('n_true_entities', 596)])),\n",
       "             ('facility',\n",
       "              OrderedDict([('precision', 0.0),\n",
       "                           ('recall', 0.0),\n",
       "                           ('f1', 0),\n",
       "                           ('n_predicted_entities', 431),\n",
       "                           ('n_true_entities', 293)])),\n",
       "             ('geo-loc',\n",
       "              OrderedDict([('precision', 0.0),\n",
       "                           ('recall', 0.0),\n",
       "                           ('f1', 0),\n",
       "                           ('n_predicted_entities', 987),\n",
       "                           ('n_true_entities', 928)])),\n",
       "             ('movie',\n",
       "              OrderedDict([('precision', 0.0),\n",
       "                           ('recall', 0.0),\n",
       "                           ('f1', 0),\n",
       "                           ('n_predicted_entities', 784),\n",
       "                           ('n_true_entities', 67)])),\n",
       "             ('musicartist',\n",
       "              OrderedDict([('precision', 0.0),\n",
       "                           ('recall', 0.0),\n",
       "                           ('f1', 0),\n",
       "                           ('n_predicted_entities', 382),\n",
       "                           ('n_true_entities', 220)])),\n",
       "             ('other',\n",
       "              OrderedDict([('precision', 0.0),\n",
       "                           ('recall', 0.0),\n",
       "                           ('f1', 0),\n",
       "                           ('n_predicted_entities', 693),\n",
       "                           ('n_true_entities', 702)])),\n",
       "             ('person',\n",
       "              OrderedDict([('precision', 0.04455809988763609),\n",
       "                           ('recall', 2.8360049321824907),\n",
       "                           ('f1', 0.0877377024166015),\n",
       "                           ('n_predicted_entities', 51618),\n",
       "                           ('n_true_entities', 811)])),\n",
       "             ('product',\n",
       "              OrderedDict([('precision', 0.16917512542293783),\n",
       "                           ('recall', 9.863945578231291),\n",
       "                           ('f1', 0.33264510208763487),\n",
       "                           ('n_predicted_entities', 17142),\n",
       "                           ('n_true_entities', 294)])),\n",
       "             ('sportsteam',\n",
       "              OrderedDict([('precision', 0.0),\n",
       "                           ('recall', 0.0),\n",
       "                           ('f1', 0),\n",
       "                           ('n_predicted_entities', 543),\n",
       "                           ('n_true_entities', 204)])),\n",
       "             ('tvshow',\n",
       "              OrderedDict([('precision', 0.0),\n",
       "                           ('recall', 0.0),\n",
       "                           ('f1', 0),\n",
       "                           ('n_predicted_entities', 328),\n",
       "                           ('n_true_entities', 55)]))])"
      ]
     },
     "execution_count": 132,
     "metadata": {},
     "output_type": "execute_result"
    }
   ],
   "source": [
    "eval_conll(model,train_idxs[:-400],train_tag_idxs[:-400])"
   ]
  },
  {
   "cell_type": "code",
   "execution_count": 133,
   "metadata": {},
   "outputs": [
    {
     "name": "stdout",
     "output_type": "stream",
     "text": [
      "processed 5813 tokens with 260 phrases; found: 4590 phrases; correct: 8.\n",
      "\n",
      "precision:  0.17%; recall:  3.08%; F1:  0.33\n",
      "\n"
     ]
    },
    {
     "data": {
      "text/plain": [
       "OrderedDict([('company',\n",
       "              OrderedDict([('precision', 0.0),\n",
       "                           ('recall', 0.0),\n",
       "                           ('f1', 0),\n",
       "                           ('n_predicted_entities', 254),\n",
       "                           ('n_true_entities', 31)])),\n",
       "             ('facility',\n",
       "              OrderedDict([('precision', 0.0),\n",
       "                           ('recall', 0.0),\n",
       "                           ('f1', 0),\n",
       "                           ('n_predicted_entities', 39),\n",
       "                           ('n_true_entities', 24)])),\n",
       "             ('geo-loc',\n",
       "              OrderedDict([('precision', 0.0),\n",
       "                           ('recall', 0.0),\n",
       "                           ('f1', 0),\n",
       "                           ('n_predicted_entities', 71),\n",
       "                           ('n_true_entities', 66)])),\n",
       "             ('movie',\n",
       "              OrderedDict([('precision', 0.0),\n",
       "                           ('recall', 0.0),\n",
       "                           ('f1', 0),\n",
       "                           ('n_predicted_entities', 68),\n",
       "                           ('n_true_entities', 1)])),\n",
       "             ('musicartist',\n",
       "              OrderedDict([('precision', 0.0),\n",
       "                           ('recall', 0.0),\n",
       "                           ('f1', 0),\n",
       "                           ('n_predicted_entities', 19),\n",
       "                           ('n_true_entities', 11)])),\n",
       "             ('other',\n",
       "              OrderedDict([('precision', 0.0),\n",
       "                           ('recall', 0.0),\n",
       "                           ('f1', 0),\n",
       "                           ('n_predicted_entities', 52),\n",
       "                           ('n_true_entities', 53)])),\n",
       "             ('person',\n",
       "              OrderedDict([('precision', 0.25864856126737795),\n",
       "                           ('recall', 20.51282051282051),\n",
       "                           ('f1', 0.5108556832694764),\n",
       "                           ('n_predicted_entities', 3093),\n",
       "                           ('n_true_entities', 39)])),\n",
       "             ('product',\n",
       "              OrderedDict([('precision', 0.0),\n",
       "                           ('recall', 0.0),\n",
       "                           ('f1', 0),\n",
       "                           ('n_predicted_entities', 935),\n",
       "                           ('n_true_entities', 14)])),\n",
       "             ('sportsteam',\n",
       "              OrderedDict([('precision', 0.0),\n",
       "                           ('recall', 0.0),\n",
       "                           ('f1', 0),\n",
       "                           ('n_predicted_entities', 29),\n",
       "                           ('n_true_entities', 17)])),\n",
       "             ('tvshow',\n",
       "              OrderedDict([('precision', 0.0),\n",
       "                           ('recall', 0.0),\n",
       "                           ('f1', 0),\n",
       "                           ('n_predicted_entities', 30),\n",
       "                           ('n_true_entities', 4)]))])"
      ]
     },
     "execution_count": 133,
     "metadata": {},
     "output_type": "execute_result"
    }
   ],
   "source": [
    "eval_conll(model,test_idxs[:-400],test_tag_idxs[:-400])"
   ]
  },
  {
   "cell_type": "code",
   "execution_count": null,
   "metadata": {},
   "outputs": [],
   "source": [
    "лучший скор был при SGD и сосотавил f1 = 3"
   ]
  },
  {
   "cell_type": "code",
   "execution_count": null,
   "metadata": {},
   "outputs": [],
   "source": []
  },
  {
   "cell_type": "markdown",
   "metadata": {},
   "source": [
    "## Бонусная часть. Улучшение качества теггера (4 балла).\n",
    "\n",
    "Улучшите качество теггера на данной задаче.\n",
    "\n",
    "Бонусные баллы будут начисляться в зависимости от результата f1-меры (одновременно на тестовой и валидационной выборках!).\n",
    "\n",
    "+ 1 балл — $> 0.38$\n",
    "+ 2 балла — $> 0.4$\n",
    "+ 3 балла — $> 0.425$\n",
    "+ 4 балла — $> 0.45$\n",
    "\n",
    "Разрешается использовать любые разумные способы (в том числе и не рассматривающиеся в курсе). Под неразумными способами понимаются любые, в которых используются модели, обученные на dev или test, а также модели, использующие утечки в данных, не относяющиеся к смыслу задачи."
   ]
  },
  {
   "cell_type": "code",
   "execution_count": null,
   "metadata": {},
   "outputs": [],
   "source": [
    "    "
   ]
  }
 ],
 "metadata": {
  "kernelspec": {
   "display_name": "Python 3",
   "language": "python",
   "name": "python3"
  },
  "language_info": {
   "codemirror_mode": {
    "name": "ipython",
    "version": 3
   },
   "file_extension": ".py",
   "mimetype": "text/x-python",
   "name": "python",
   "nbconvert_exporter": "python",
   "pygments_lexer": "ipython3",
   "version": "3.6.8"
  }
 },
 "nbformat": 4,
 "nbformat_minor": 1
}
